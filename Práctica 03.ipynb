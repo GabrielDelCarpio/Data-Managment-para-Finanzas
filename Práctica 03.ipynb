{
 "cells": [
  {
   "cell_type": "markdown",
   "metadata": {},
   "source": [
    "# Practica Calificada - Manejo Datos con Pandas"
   ]
  },
  {
   "cell_type": "code",
   "execution_count": 1,
   "metadata": {},
   "outputs": [
    {
     "name": "stdout",
     "output_type": "stream",
     "text": [
      "1.5.1\n"
     ]
    }
   ],
   "source": [
    "# Importar pandas para manejo de data estructurada\n",
    "import numpy as np\n",
    "import pandas as pd\n",
    "print(pd.__version__)"
   ]
  },
  {
   "cell_type": "markdown",
   "metadata": {},
   "source": [
    "## Importacion de los Datos"
   ]
  },
  {
   "cell_type": "code",
   "execution_count": 7,
   "metadata": {},
   "outputs": [
    {
     "data": {
      "text/html": [
       "<div>\n",
       "<style scoped>\n",
       "    .dataframe tbody tr th:only-of-type {\n",
       "        vertical-align: middle;\n",
       "    }\n",
       "\n",
       "    .dataframe tbody tr th {\n",
       "        vertical-align: top;\n",
       "    }\n",
       "\n",
       "    .dataframe thead th {\n",
       "        text-align: right;\n",
       "    }\n",
       "</style>\n",
       "<table border=\"1\" class=\"dataframe\">\n",
       "  <thead>\n",
       "    <tr style=\"text-align: right;\">\n",
       "      <th></th>\n",
       "      <th>FECHA_CORTE</th>\n",
       "      <th>UBIGEO</th>\n",
       "      <th>REGION</th>\n",
       "      <th>DEPARTAMENTO</th>\n",
       "      <th>PROVINCIA</th>\n",
       "      <th>DISTRITO</th>\n",
       "      <th>CODIGO_MODULAR</th>\n",
       "      <th>CODIGO_LOCAL</th>\n",
       "      <th>NOMBRE_LOCAL</th>\n",
       "      <th>NIVEL_EDUCATIVO</th>\n",
       "      <th>NOMBRE_BIEN</th>\n",
       "      <th>CANTIDAD_BIEN</th>\n",
       "      <th>ESTADO_IMPLEMENTACION</th>\n",
       "      <th>ANIO_ATENCION</th>\n",
       "      <th>COMPONENTE</th>\n",
       "      <th>FECHA_IMPLEMENTACION</th>\n",
       "    </tr>\n",
       "  </thead>\n",
       "  <tbody>\n",
       "    <tr>\n",
       "      <th>0</th>\n",
       "      <td>20230322</td>\n",
       "      <td>10101</td>\n",
       "      <td>Amazonas</td>\n",
       "      <td>Amazonas</td>\n",
       "      <td>Chachapoyas</td>\n",
       "      <td>Chachapoyas</td>\n",
       "      <td>262188</td>\n",
       "      <td>255</td>\n",
       "      <td>SAN JUAN DE LA LIBERTAD</td>\n",
       "      <td>Básica Alternativa-Avanzado,Básica Alternativa...</td>\n",
       "      <td>IMPRESORA MULTIFUNCIONAL</td>\n",
       "      <td>4</td>\n",
       "      <td>PROGRAMADO</td>\n",
       "      <td>2023</td>\n",
       "      <td>EQUIPAMIENTO</td>\n",
       "      <td>20230330</td>\n",
       "    </tr>\n",
       "    <tr>\n",
       "      <th>1</th>\n",
       "      <td>20230322</td>\n",
       "      <td>10101</td>\n",
       "      <td>Amazonas</td>\n",
       "      <td>Amazonas</td>\n",
       "      <td>Chachapoyas</td>\n",
       "      <td>Chachapoyas</td>\n",
       "      <td>262188</td>\n",
       "      <td>255</td>\n",
       "      <td>SAN JUAN DE LA LIBERTAD</td>\n",
       "      <td>Básica Alternativa-Avanzado,Básica Alternativa...</td>\n",
       "      <td>IMPRESORA MULTIFUNCIONAL</td>\n",
       "      <td>1</td>\n",
       "      <td>PROGRAMADO</td>\n",
       "      <td>2023</td>\n",
       "      <td>EQUIPAMIENTO</td>\n",
       "      <td>20230330</td>\n",
       "    </tr>\n",
       "    <tr>\n",
       "      <th>2</th>\n",
       "      <td>20230322</td>\n",
       "      <td>10101</td>\n",
       "      <td>Amazonas</td>\n",
       "      <td>Amazonas</td>\n",
       "      <td>Chachapoyas</td>\n",
       "      <td>Chachapoyas</td>\n",
       "      <td>559138</td>\n",
       "      <td>255</td>\n",
       "      <td>SAN JUAN DE LA LIBERTAD</td>\n",
       "      <td>Básica Alternativa-Avanzado,Básica Alternativa...</td>\n",
       "      <td>IMPRESORA MULTIFUNCIONAL</td>\n",
       "      <td>6</td>\n",
       "      <td>PROGRAMADO</td>\n",
       "      <td>2023</td>\n",
       "      <td>EQUIPAMIENTO</td>\n",
       "      <td>20230330</td>\n",
       "    </tr>\n",
       "    <tr>\n",
       "      <th>3</th>\n",
       "      <td>20230322</td>\n",
       "      <td>10101</td>\n",
       "      <td>Amazonas</td>\n",
       "      <td>Amazonas</td>\n",
       "      <td>Chachapoyas</td>\n",
       "      <td>Chachapoyas</td>\n",
       "      <td>262188</td>\n",
       "      <td>255</td>\n",
       "      <td>SAN JUAN DE LA LIBERTAD</td>\n",
       "      <td>Básica Alternativa-Avanzado,Básica Alternativa...</td>\n",
       "      <td>PROYECTOR MULTIMEDIA</td>\n",
       "      <td>1</td>\n",
       "      <td>PROGRAMADO</td>\n",
       "      <td>2023</td>\n",
       "      <td>EQUIPAMIENTO</td>\n",
       "      <td>20230330</td>\n",
       "    </tr>\n",
       "    <tr>\n",
       "      <th>4</th>\n",
       "      <td>20230322</td>\n",
       "      <td>10101</td>\n",
       "      <td>Amazonas</td>\n",
       "      <td>Amazonas</td>\n",
       "      <td>Chachapoyas</td>\n",
       "      <td>Chachapoyas</td>\n",
       "      <td>262188</td>\n",
       "      <td>255</td>\n",
       "      <td>SAN JUAN DE LA LIBERTAD</td>\n",
       "      <td>Básica Alternativa-Avanzado,Básica Alternativa...</td>\n",
       "      <td>PROYECTOR MULTIMEDIA</td>\n",
       "      <td>1</td>\n",
       "      <td>PROGRAMADO</td>\n",
       "      <td>2023</td>\n",
       "      <td>EQUIPAMIENTO</td>\n",
       "      <td>20220420</td>\n",
       "    </tr>\n",
       "  </tbody>\n",
       "</table>\n",
       "</div>"
      ],
      "text/plain": [
       "   FECHA_CORTE  UBIGEO    REGION DEPARTAMENTO    PROVINCIA     DISTRITO  \\\n",
       "0     20230322   10101  Amazonas     Amazonas  Chachapoyas  Chachapoyas   \n",
       "1     20230322   10101  Amazonas     Amazonas  Chachapoyas  Chachapoyas   \n",
       "2     20230322   10101  Amazonas     Amazonas  Chachapoyas  Chachapoyas   \n",
       "3     20230322   10101  Amazonas     Amazonas  Chachapoyas  Chachapoyas   \n",
       "4     20230322   10101  Amazonas     Amazonas  Chachapoyas  Chachapoyas   \n",
       "\n",
       "   CODIGO_MODULAR  CODIGO_LOCAL             NOMBRE_LOCAL  \\\n",
       "0          262188           255  SAN JUAN DE LA LIBERTAD   \n",
       "1          262188           255  SAN JUAN DE LA LIBERTAD   \n",
       "2          559138           255  SAN JUAN DE LA LIBERTAD   \n",
       "3          262188           255  SAN JUAN DE LA LIBERTAD   \n",
       "4          262188           255  SAN JUAN DE LA LIBERTAD   \n",
       "\n",
       "                                     NIVEL_EDUCATIVO  \\\n",
       "0  Básica Alternativa-Avanzado,Básica Alternativa...   \n",
       "1  Básica Alternativa-Avanzado,Básica Alternativa...   \n",
       "2  Básica Alternativa-Avanzado,Básica Alternativa...   \n",
       "3  Básica Alternativa-Avanzado,Básica Alternativa...   \n",
       "4  Básica Alternativa-Avanzado,Básica Alternativa...   \n",
       "\n",
       "                NOMBRE_BIEN  CANTIDAD_BIEN ESTADO_IMPLEMENTACION  \\\n",
       "0  IMPRESORA MULTIFUNCIONAL              4            PROGRAMADO   \n",
       "1  IMPRESORA MULTIFUNCIONAL              1            PROGRAMADO   \n",
       "2  IMPRESORA MULTIFUNCIONAL              6            PROGRAMADO   \n",
       "3      PROYECTOR MULTIMEDIA              1            PROGRAMADO   \n",
       "4      PROYECTOR MULTIMEDIA              1            PROGRAMADO   \n",
       "\n",
       "   ANIO_ATENCION    COMPONENTE  FECHA_IMPLEMENTACION  \n",
       "0           2023  EQUIPAMIENTO              20230330  \n",
       "1           2023  EQUIPAMIENTO              20230330  \n",
       "2           2023  EQUIPAMIENTO              20230330  \n",
       "3           2023  EQUIPAMIENTO              20230330  \n",
       "4           2023  EQUIPAMIENTO              20220420  "
      ]
     },
     "execution_count": 7,
     "metadata": {},
     "output_type": "execute_result"
    }
   ],
   "source": [
    "# Importando desde csv\n",
    "dfMobiliario = pd.read_csv('https://raw.githubusercontent.com/aldochavez/datasets/main/MobiliarioEquipamiento.csv', sep = ';', encoding='iso-8859-1')\n",
    "dfMobiliario.head(5)"
   ]
  },
  {
   "cell_type": "code",
   "execution_count": 8,
   "metadata": {},
   "outputs": [
    {
     "data": {
      "text/html": [
       "<div>\n",
       "<style scoped>\n",
       "    .dataframe tbody tr th:only-of-type {\n",
       "        vertical-align: middle;\n",
       "    }\n",
       "\n",
       "    .dataframe tbody tr th {\n",
       "        vertical-align: top;\n",
       "    }\n",
       "\n",
       "    .dataframe thead th {\n",
       "        text-align: right;\n",
       "    }\n",
       "</style>\n",
       "<table border=\"1\" class=\"dataframe\">\n",
       "  <thead>\n",
       "    <tr style=\"text-align: right;\">\n",
       "      <th></th>\n",
       "      <th>Pais</th>\n",
       "      <th>Region</th>\n",
       "      <th>TasaGlobalFecundidad</th>\n",
       "      <th>Anticoncepcion</th>\n",
       "      <th>NivelEducHombres</th>\n",
       "      <th>NivelEducMujer</th>\n",
       "      <th>EsperzHombres</th>\n",
       "      <th>EsperzMujeres</th>\n",
       "      <th>MortalidadInfant</th>\n",
       "      <th>PBI</th>\n",
       "      <th>ActEconomicHombres</th>\n",
       "      <th>ActEconomicMujeres</th>\n",
       "      <th>AlfabetHombres</th>\n",
       "      <th>AlfabetMujers</th>\n",
       "    </tr>\n",
       "  </thead>\n",
       "  <tbody>\n",
       "    <tr>\n",
       "      <th>0</th>\n",
       "      <td>Afghanistan</td>\n",
       "      <td>Asia</td>\n",
       "      <td>6.90</td>\n",
       "      <td>NaN</td>\n",
       "      <td>NaN</td>\n",
       "      <td>NaN</td>\n",
       "      <td>45.0</td>\n",
       "      <td>46.0</td>\n",
       "      <td>154.0</td>\n",
       "      <td>2848.0</td>\n",
       "      <td>87.5</td>\n",
       "      <td>7.2</td>\n",
       "      <td>52.800</td>\n",
       "      <td>85.00</td>\n",
       "    </tr>\n",
       "    <tr>\n",
       "      <th>1</th>\n",
       "      <td>Albania</td>\n",
       "      <td>Europe</td>\n",
       "      <td>2.60</td>\n",
       "      <td>NaN</td>\n",
       "      <td>NaN</td>\n",
       "      <td>NaN</td>\n",
       "      <td>68.0</td>\n",
       "      <td>74.0</td>\n",
       "      <td>32.0</td>\n",
       "      <td>863.0</td>\n",
       "      <td>NaN</td>\n",
       "      <td>NaN</td>\n",
       "      <td>NaN</td>\n",
       "      <td>NaN</td>\n",
       "    </tr>\n",
       "    <tr>\n",
       "      <th>2</th>\n",
       "      <td>Algeria</td>\n",
       "      <td>Africa</td>\n",
       "      <td>3.81</td>\n",
       "      <td>52.0</td>\n",
       "      <td>11.1</td>\n",
       "      <td>9.9</td>\n",
       "      <td>67.5</td>\n",
       "      <td>70.3</td>\n",
       "      <td>44.0</td>\n",
       "      <td>1531.0</td>\n",
       "      <td>76.4</td>\n",
       "      <td>7.8</td>\n",
       "      <td>26.100</td>\n",
       "      <td>51.00</td>\n",
       "    </tr>\n",
       "    <tr>\n",
       "      <th>3</th>\n",
       "      <td>American.Samoa</td>\n",
       "      <td>Asia</td>\n",
       "      <td>NaN</td>\n",
       "      <td>NaN</td>\n",
       "      <td>NaN</td>\n",
       "      <td>NaN</td>\n",
       "      <td>68.0</td>\n",
       "      <td>73.0</td>\n",
       "      <td>11.0</td>\n",
       "      <td>NaN</td>\n",
       "      <td>58.8</td>\n",
       "      <td>42.4</td>\n",
       "      <td>0.264</td>\n",
       "      <td>0.36</td>\n",
       "    </tr>\n",
       "    <tr>\n",
       "      <th>4</th>\n",
       "      <td>Andorra</td>\n",
       "      <td>Europe</td>\n",
       "      <td>NaN</td>\n",
       "      <td>NaN</td>\n",
       "      <td>NaN</td>\n",
       "      <td>NaN</td>\n",
       "      <td>NaN</td>\n",
       "      <td>NaN</td>\n",
       "      <td>NaN</td>\n",
       "      <td>NaN</td>\n",
       "      <td>NaN</td>\n",
       "      <td>NaN</td>\n",
       "      <td>NaN</td>\n",
       "      <td>NaN</td>\n",
       "    </tr>\n",
       "  </tbody>\n",
       "</table>\n",
       "</div>"
      ],
      "text/plain": [
       "             Pais  Region  TasaGlobalFecundidad  Anticoncepcion  \\\n",
       "0     Afghanistan    Asia                  6.90             NaN   \n",
       "1         Albania  Europe                  2.60             NaN   \n",
       "2         Algeria  Africa                  3.81            52.0   \n",
       "3  American.Samoa    Asia                   NaN             NaN   \n",
       "4         Andorra  Europe                   NaN             NaN   \n",
       "\n",
       "   NivelEducHombres  NivelEducMujer  EsperzHombres  EsperzMujeres  \\\n",
       "0               NaN             NaN           45.0           46.0   \n",
       "1               NaN             NaN           68.0           74.0   \n",
       "2              11.1             9.9           67.5           70.3   \n",
       "3               NaN             NaN           68.0           73.0   \n",
       "4               NaN             NaN            NaN            NaN   \n",
       "\n",
       "   MortalidadInfant     PBI  ActEconomicHombres  ActEconomicMujeres  \\\n",
       "0             154.0  2848.0                87.5                 7.2   \n",
       "1              32.0   863.0                 NaN                 NaN   \n",
       "2              44.0  1531.0                76.4                 7.8   \n",
       "3              11.0     NaN                58.8                42.4   \n",
       "4               NaN     NaN                 NaN                 NaN   \n",
       "\n",
       "   AlfabetHombres  AlfabetMujers  \n",
       "0          52.800          85.00  \n",
       "1             NaN            NaN  \n",
       "2          26.100          51.00  \n",
       "3           0.264           0.36  \n",
       "4             NaN            NaN  "
      ]
     },
     "execution_count": 8,
     "metadata": {},
     "output_type": "execute_result"
    }
   ],
   "source": [
    "# Importando desde csv\n",
    "dfIndicadores = pd.read_csv('https://raw.githubusercontent.com/aldochavez/datasets/main/IndicadoresMundiales.csv', sep = ',', encoding='iso-8859-1')\n",
    "dfIndicadores.head(5)"
   ]
  },
  {
   "cell_type": "code",
   "execution_count": 9,
   "metadata": {},
   "outputs": [
    {
     "data": {
      "text/html": [
       "<div>\n",
       "<style scoped>\n",
       "    .dataframe tbody tr th:only-of-type {\n",
       "        vertical-align: middle;\n",
       "    }\n",
       "\n",
       "    .dataframe tbody tr th {\n",
       "        vertical-align: top;\n",
       "    }\n",
       "\n",
       "    .dataframe thead th {\n",
       "        text-align: right;\n",
       "    }\n",
       "</style>\n",
       "<table border=\"1\" class=\"dataframe\">\n",
       "  <thead>\n",
       "    <tr style=\"text-align: right;\">\n",
       "      <th></th>\n",
       "      <th>Invoice ID</th>\n",
       "      <th>Branch</th>\n",
       "      <th>City</th>\n",
       "      <th>Customer type</th>\n",
       "      <th>Gender</th>\n",
       "      <th>Product line</th>\n",
       "      <th>Unit price</th>\n",
       "      <th>Quantity</th>\n",
       "      <th>Tax 5%</th>\n",
       "      <th>Total</th>\n",
       "      <th>Date</th>\n",
       "      <th>Time</th>\n",
       "      <th>Payment</th>\n",
       "      <th>cogs</th>\n",
       "      <th>gross margin percentage</th>\n",
       "      <th>gross income</th>\n",
       "      <th>Rating</th>\n",
       "    </tr>\n",
       "  </thead>\n",
       "  <tbody>\n",
       "    <tr>\n",
       "      <th>0</th>\n",
       "      <td>750-67-8428</td>\n",
       "      <td>A</td>\n",
       "      <td>Yangon</td>\n",
       "      <td>Member</td>\n",
       "      <td>Female</td>\n",
       "      <td>Health and beauty</td>\n",
       "      <td>74.69</td>\n",
       "      <td>7</td>\n",
       "      <td>26.1415</td>\n",
       "      <td>548.9715</td>\n",
       "      <td>1/5/2019</td>\n",
       "      <td>13:08</td>\n",
       "      <td>Ewallet</td>\n",
       "      <td>522.83</td>\n",
       "      <td>4.761905</td>\n",
       "      <td>26.1415</td>\n",
       "      <td>9.1</td>\n",
       "    </tr>\n",
       "    <tr>\n",
       "      <th>1</th>\n",
       "      <td>226-31-3081</td>\n",
       "      <td>C</td>\n",
       "      <td>Naypyitaw</td>\n",
       "      <td>Normal</td>\n",
       "      <td>Female</td>\n",
       "      <td>Electronic accessories</td>\n",
       "      <td>15.28</td>\n",
       "      <td>5</td>\n",
       "      <td>3.8200</td>\n",
       "      <td>80.2200</td>\n",
       "      <td>3/8/2019</td>\n",
       "      <td>10:29</td>\n",
       "      <td>Cash</td>\n",
       "      <td>76.40</td>\n",
       "      <td>4.761905</td>\n",
       "      <td>3.8200</td>\n",
       "      <td>9.6</td>\n",
       "    </tr>\n",
       "    <tr>\n",
       "      <th>2</th>\n",
       "      <td>631-41-3108</td>\n",
       "      <td>A</td>\n",
       "      <td>Yangon</td>\n",
       "      <td>Normal</td>\n",
       "      <td>Male</td>\n",
       "      <td>Home and lifestyle</td>\n",
       "      <td>46.33</td>\n",
       "      <td>7</td>\n",
       "      <td>16.2155</td>\n",
       "      <td>340.5255</td>\n",
       "      <td>3/3/2019</td>\n",
       "      <td>13:23</td>\n",
       "      <td>Credit card</td>\n",
       "      <td>324.31</td>\n",
       "      <td>4.761905</td>\n",
       "      <td>16.2155</td>\n",
       "      <td>7.4</td>\n",
       "    </tr>\n",
       "    <tr>\n",
       "      <th>3</th>\n",
       "      <td>123-19-1176</td>\n",
       "      <td>A</td>\n",
       "      <td>Yangon</td>\n",
       "      <td>Member</td>\n",
       "      <td>Male</td>\n",
       "      <td>Health and beauty</td>\n",
       "      <td>58.22</td>\n",
       "      <td>8</td>\n",
       "      <td>23.2880</td>\n",
       "      <td>489.0480</td>\n",
       "      <td>1/27/2019</td>\n",
       "      <td>20:33</td>\n",
       "      <td>Ewallet</td>\n",
       "      <td>465.76</td>\n",
       "      <td>4.761905</td>\n",
       "      <td>23.2880</td>\n",
       "      <td>8.4</td>\n",
       "    </tr>\n",
       "    <tr>\n",
       "      <th>4</th>\n",
       "      <td>373-73-7910</td>\n",
       "      <td>A</td>\n",
       "      <td>Yangon</td>\n",
       "      <td>Normal</td>\n",
       "      <td>Male</td>\n",
       "      <td>Sports and travel</td>\n",
       "      <td>86.31</td>\n",
       "      <td>7</td>\n",
       "      <td>30.2085</td>\n",
       "      <td>634.3785</td>\n",
       "      <td>2/8/2019</td>\n",
       "      <td>10:37</td>\n",
       "      <td>Ewallet</td>\n",
       "      <td>604.17</td>\n",
       "      <td>4.761905</td>\n",
       "      <td>30.2085</td>\n",
       "      <td>5.3</td>\n",
       "    </tr>\n",
       "  </tbody>\n",
       "</table>\n",
       "</div>"
      ],
      "text/plain": [
       "    Invoice ID Branch       City Customer type  Gender  \\\n",
       "0  750-67-8428      A     Yangon        Member  Female   \n",
       "1  226-31-3081      C  Naypyitaw        Normal  Female   \n",
       "2  631-41-3108      A     Yangon        Normal    Male   \n",
       "3  123-19-1176      A     Yangon        Member    Male   \n",
       "4  373-73-7910      A     Yangon        Normal    Male   \n",
       "\n",
       "             Product line  Unit price  Quantity   Tax 5%     Total       Date  \\\n",
       "0       Health and beauty       74.69         7  26.1415  548.9715   1/5/2019   \n",
       "1  Electronic accessories       15.28         5   3.8200   80.2200   3/8/2019   \n",
       "2      Home and lifestyle       46.33         7  16.2155  340.5255   3/3/2019   \n",
       "3       Health and beauty       58.22         8  23.2880  489.0480  1/27/2019   \n",
       "4       Sports and travel       86.31         7  30.2085  634.3785   2/8/2019   \n",
       "\n",
       "    Time      Payment    cogs  gross margin percentage  gross income  Rating  \n",
       "0  13:08      Ewallet  522.83                 4.761905       26.1415     9.1  \n",
       "1  10:29         Cash   76.40                 4.761905        3.8200     9.6  \n",
       "2  13:23  Credit card  324.31                 4.761905       16.2155     7.4  \n",
       "3  20:33      Ewallet  465.76                 4.761905       23.2880     8.4  \n",
       "4  10:37      Ewallet  604.17                 4.761905       30.2085     5.3  "
      ]
     },
     "execution_count": 9,
     "metadata": {},
     "output_type": "execute_result"
    }
   ],
   "source": [
    "# Importando desde csv\n",
    "dfMarket = pd.read_csv('https://raw.githubusercontent.com/aldochavez/datasets/main/Supermarket_Sales.csv', sep = ',', encoding='iso-8859-1')\n",
    "dfMarket.head(5)"
   ]
  },
  {
   "cell_type": "markdown",
   "metadata": {},
   "source": [
    "## Nivel I (5 ptos)"
   ]
  },
  {
   "cell_type": "markdown",
   "metadata": {},
   "source": [
    "Pregunta 1: Muestre las variables distrito, nombre del bien y cantidad del bien de la tabla mobiliario (1 pto)"
   ]
  },
  {
   "cell_type": "code",
   "execution_count": null,
   "metadata": {},
   "outputs": [],
   "source": [
    "# Desarrolle aqui\n"
   ]
  },
  {
   "cell_type": "markdown",
   "metadata": {},
   "source": [
    "Pregunta 2: Muestre las variables pais, región y el PBI de la tabla indicadores (1 ptos)"
   ]
  },
  {
   "cell_type": "code",
   "execution_count": null,
   "metadata": {},
   "outputs": [],
   "source": [
    "# Desarrolle aqui\n"
   ]
  },
  {
   "cell_type": "markdown",
   "metadata": {},
   "source": [
    "Pregunta 3: Muestre todas las variables de aquellas facturas que hayan sido pagadas (Payment) con tarjeta de credito (tabla market) (1.5 ptos)"
   ]
  },
  {
   "cell_type": "code",
   "execution_count": 10,
   "metadata": {},
   "outputs": [],
   "source": [
    "# Desarrolle aqui\n"
   ]
  },
  {
   "cell_type": "markdown",
   "metadata": {},
   "source": [
    "Pregunta 4: Muestre el país, la Region además de la tasa de fecundidad y anticoncepcion de los paises de europa (tabla indicadores) (1.5 ptos)"
   ]
  },
  {
   "cell_type": "code",
   "execution_count": null,
   "metadata": {},
   "outputs": [],
   "source": [
    "# Desarrolle aqui\n"
   ]
  },
  {
   "cell_type": "markdown",
   "metadata": {},
   "source": [
    "## Nivel II (7.5 ptos)"
   ]
  },
  {
   "cell_type": "markdown",
   "metadata": {},
   "source": [
    "Pregunta 5: Muestre el Departamento, el nombre del local, el estado de implementación y la decha de implementación de los mobiliarios que sean de provincia (no Lima) y esten en estado de implementación programado (tabla mobiliario) (2.5 ptos)"
   ]
  },
  {
   "cell_type": "code",
   "execution_count": 17,
   "metadata": {},
   "outputs": [],
   "source": [
    "# Desarrolle aqui\n"
   ]
  },
  {
   "cell_type": "markdown",
   "metadata": {},
   "source": [
    "Pregunta 6: Muestre el ID de Factura (Invoice ID), el tipo de Cliente (Customer type), la línea de producto (Product line) y el precio unitario (Unit price) de las facturas cuyo precio unitario sea mayor a 50 y que no sean de la línea de producto 'Health and beauty' ni 'Home and lifestyle' (tabla market) (2.5 ptos)"
   ]
  },
  {
   "cell_type": "code",
   "execution_count": 26,
   "metadata": {},
   "outputs": [],
   "source": [
    "# Desarrolle aqui\n"
   ]
  },
  {
   "cell_type": "markdown",
   "metadata": {},
   "source": [
    "Pregunta 7: Muestre aquellos paises, la region y las tasas de analbetismo de hombres y mujeres que superan la tasa de analfabetismo de hombres o la de mujeres (tabla indicadores) (2.5 ptos)"
   ]
  },
  {
   "cell_type": "code",
   "execution_count": 35,
   "metadata": {},
   "outputs": [],
   "source": [
    "# Desarrolle aqui\n"
   ]
  },
  {
   "cell_type": "markdown",
   "metadata": {},
   "source": [
    "## Nivel III (7.5 ptos)"
   ]
  },
  {
   "cell_type": "markdown",
   "metadata": {},
   "source": [
    "Pregunta 8: Muestre la suma de cantidad de bienes utilizados vistos por departamento y provincia de los departamentos de Amazonas y San Martin y muestre ordenado de menor a mayor por la cantidad de bienes utilizados (tabla mobiliario) (2.5 ptos)"
   ]
  },
  {
   "cell_type": "code",
   "execution_count": 28,
   "metadata": {},
   "outputs": [],
   "source": [
    "# Desarrolle aqui\n"
   ]
  },
  {
   "cell_type": "markdown",
   "metadata": {},
   "source": [
    "Pregunta 9: Muestre el promedio del PBI visto por region y muestre ordenado de mayor a menor quien tiene mas PBI (tabla Indicadores) (2 ptos)"
   ]
  },
  {
   "cell_type": "code",
   "execution_count": 30,
   "metadata": {},
   "outputs": [],
   "source": [
    "# Desarrolle aqui\n"
   ]
  },
  {
   "cell_type": "markdown",
   "metadata": {},
   "source": [
    "Pregunta 10: Muestre el promedio del precio unitario (Unit price), la suma del total a pagar (Total) y la cantidad de facturas visto por tipo de cliente (Customer type) y genero (Gender) de los clientes de la ciudad (City) de Yangon y de las marcas (Branch) que no sean la C (tabla Market) (3 ptos)"
   ]
  },
  {
   "cell_type": "code",
   "execution_count": 33,
   "metadata": {},
   "outputs": [],
   "source": [
    "# Desarrolle aqui\n"
   ]
  }
 ],
 "metadata": {
  "kernelspec": {
   "display_name": "Python 3",
   "language": "python",
   "name": "python3"
  },
  "language_info": {
   "codemirror_mode": {
    "name": "ipython",
    "version": 3
   },
   "file_extension": ".py",
   "mimetype": "text/x-python",
   "name": "python",
   "nbconvert_exporter": "python",
   "pygments_lexer": "ipython3",
   "version": "3.8.3"
  }
 },
 "nbformat": 4,
 "nbformat_minor": 2
}
